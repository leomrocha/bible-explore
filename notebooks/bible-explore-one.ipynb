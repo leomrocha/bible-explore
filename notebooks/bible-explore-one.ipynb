{
 "cells": [
  {
   "cell_type": "markdown",
   "id": "chemical-planner",
   "metadata": {},
   "source": [
    "# Bible Explore\n",
    "\n",
    "Exploring [Kaggle Bible Corpus](https://www.kaggle.com/oswinrh/bible) for similarity between passages.\n",
    "\n",
    "Some extra information at [OpenBible](http://www.openbible.info/) and [Bible Databases](https://github.com/scrollmapper/bible_databases)\n",
    "\n",
    "The current work is started in English and might be extended to other languages later on"
   ]
  },
  {
   "cell_type": "code",
   "execution_count": 1,
   "id": "normal-genome",
   "metadata": {},
   "outputs": [],
   "source": [
    "import scipy as sp\n",
    "import numpy as np\n",
    "import pandas as pd\n",
    "import csv\n",
    "import os\n",
    "import sys\n",
    "import re\n",
    "import seaborn as sns\n",
    "import bokeh\n",
    "import matplotlib.pyplot as plt\n",
    "import tensorflow as tf\n",
    "import tensorflow_hub as hub\n",
    "import tensorflow_text\n",
    "import networkx as nx\n",
    "\n",
    "%matplotlib inline"
   ]
  },
  {
   "cell_type": "code",
   "execution_count": 2,
   "id": "ethical-abortion",
   "metadata": {},
   "outputs": [],
   "source": [
    "# https://stackoverflow.com/questions/18424228/cosine-similarity-between-2-number-lists\n",
    "# from scipy.spatial import distance\n",
    "# scipy.spatial.distance.cosine\n",
    "\n",
    "# or with numpy:\n",
    "# from numpy import dot\n",
    "# from numpy.linalg import norm\n",
    "\n",
    "# cos_sim = dot(a, b)/(norm(a)*norm(b))"
   ]
  },
  {
   "cell_type": "code",
   "execution_count": 3,
   "id": "increased-kernel",
   "metadata": {},
   "outputs": [],
   "source": [
    "# this is for Tensorflow to use the good GPU instead of the first it sees\n",
    "# os.environ[\"CUDA_VISIBLE_DEVICES\"]=\"1\"\n",
    "# and this is to set tf to use the GPU"
   ]
  },
  {
   "cell_type": "code",
   "execution_count": 4,
   "id": "enormous-willow",
   "metadata": {},
   "outputs": [
    {
     "name": "stdout",
     "output_type": "stream",
     "text": [
      "2.3.2\n",
      "[PhysicalDevice(name='/physical_device:CPU:0', device_type='CPU'), PhysicalDevice(name='/physical_device:XLA_CPU:0', device_type='XLA_CPU'), PhysicalDevice(name='/physical_device:XLA_GPU:0', device_type='XLA_GPU'), PhysicalDevice(name='/physical_device:XLA_GPU:1', device_type='XLA_GPU')]\n"
     ]
    }
   ],
   "source": [
    "print(tf.__version__)\n",
    "print(tf.config.list_physical_devices())\n"
   ]
  },
  {
   "cell_type": "code",
   "execution_count": 5,
   "id": "liquid-cream",
   "metadata": {},
   "outputs": [],
   "source": [
    "# loading data\n",
    "corpus_path =\"/home/leo/projects/AI/Datasets/text/religion/bible/kaggle-bible-corpus/t_asv.csv\"\n",
    "with open(corpus_path, newline='') as f:\n",
    "    corpus = csv.reader(f)\n",
    "    corpus_db = [r for r in corpus]\n",
    "    verses = [r[-1] for r in corpus_db[1:]]  # omit the first line; It's the header\n"
   ]
  },
  {
   "cell_type": "code",
   "execution_count": 6,
   "id": "killing-passenger",
   "metadata": {},
   "outputs": [
    {
     "data": {
      "text/plain": [
       "'In the beginning God created the heavens and the earth.'"
      ]
     },
     "execution_count": 6,
     "metadata": {},
     "output_type": "execute_result"
    }
   ],
   "source": [
    "verses[0]"
   ]
  },
  {
   "cell_type": "code",
   "execution_count": 7,
   "id": "statutory-national",
   "metadata": {},
   "outputs": [],
   "source": [
    "# TF Universal Sentence Encoder models\n",
    "#@title Load the Universal Sentence Encoder's TF Hub module\n",
    "BASE_PATH = \"/home/leo/projects/AI/Datasets/text/religion/bible/tf-hub\"\n",
    "# module_url = os.path.join(BASE_PATH, \"universal-sentence-encoder-lite_2\")\n",
    "module_url = os.path.join(BASE_PATH, \"universal-sentence-encoder-multilingual_3\")\n",
    "# module_url = \"https://tfhub.dev/google/universal-sentence-encoder-multilingual/3\"\n",
    "# module_url = \"https://tfhub.dev/google/universal-sentence-encoder-lite/2\"\n",
    "# module_url = \"https://tfhub.dev/google/universal-sentence-encoder/4\"\n",
    "# module_url = 'https://tfhub.dev/google/universal-sentence-encoder-large/5'"
   ]
  },
  {
   "cell_type": "code",
   "execution_count": 8,
   "id": "acceptable-entry",
   "metadata": {
    "scrolled": true
   },
   "outputs": [
    {
     "name": "stdout",
     "output_type": "stream",
     "text": [
      "module /home/leo/projects/AI/Datasets/text/religion/bible/tf-hub/universal-sentence-encoder-multilingual_3 loaded\n"
     ]
    }
   ],
   "source": [
    "model = hub.load(module_url)\n",
    "print (\"module %s loaded\" % module_url)\n",
    "\n",
    "def embed(input):\n",
    "  return model(input)"
   ]
  },
  {
   "cell_type": "code",
   "execution_count": 9,
   "id": "patient-printer",
   "metadata": {
    "scrolled": true
   },
   "outputs": [],
   "source": [
    "# I don't get wht this consumes so much CPU and memory and is even slower than the full cpu version\n",
    "# %%time\n",
    "\n",
    "# with tf.device('/GPU:1'):\n",
    "#     model = hub.load(module_url)\n",
    "#     print (\"module %s loaded\" % module_url)\n",
    "\n",
    "#     def embed(input):\n",
    "#       return model(input)\n",
    "\n",
    "#     bible_embeddings = embed(verses)"
   ]
  },
  {
   "cell_type": "code",
   "execution_count": 10,
   "id": "provincial-collection",
   "metadata": {},
   "outputs": [
    {
     "name": "stdout",
     "output_type": "stream",
     "text": [
      "CPU times: user 2min 30s, sys: 33.7 s, total: 3min 3s\n",
      "Wall time: 30.9 s\n"
     ]
    }
   ],
   "source": [
    "%%time\n",
    "\n",
    "bible_embeddings = embed(verses)"
   ]
  },
  {
   "cell_type": "code",
   "execution_count": 11,
   "id": "alien-brazil",
   "metadata": {
    "scrolled": true
   },
   "outputs": [],
   "source": [
    "# bible_embeddings[0]"
   ]
  },
  {
   "cell_type": "code",
   "execution_count": 12,
   "id": "liberal-shuttle",
   "metadata": {},
   "outputs": [
    {
     "name": "stdout",
     "output_type": "stream",
     "text": [
      "CPU times: user 11.7 s, sys: 1.1 s, total: 12.8 s\n",
      "Wall time: 3.18 s\n"
     ]
    }
   ],
   "source": [
    "%%time\n",
    "# similarity by inner product\n",
    "similarity_matrix_inner = np.inner(bible_embeddings, bible_embeddings)"
   ]
  },
  {
   "cell_type": "code",
   "execution_count": 13,
   "id": "controlling-petroleum",
   "metadata": {},
   "outputs": [
    {
     "data": {
      "text/plain": [
       "(31103, 31103)"
      ]
     },
     "execution_count": 13,
     "metadata": {},
     "output_type": "execute_result"
    }
   ],
   "source": [
    "similarity_matrix_inner.shape"
   ]
  },
  {
   "cell_type": "code",
   "execution_count": 14,
   "id": "conceptual-width",
   "metadata": {},
   "outputs": [],
   "source": [
    "def check_symmetric(a, rtol=1e-05, atol=1e-08):\n",
    "    return np.allclose(a, a.T, rtol=rtol, atol=atol)"
   ]
  },
  {
   "cell_type": "markdown",
   "id": "appointed-promotion",
   "metadata": {},
   "source": [
    "the matrix must be symmetric"
   ]
  },
  {
   "cell_type": "code",
   "execution_count": 15,
   "id": "raised-debut",
   "metadata": {},
   "outputs": [
    {
     "data": {
      "text/plain": [
       "True"
      ]
     },
     "execution_count": 15,
     "metadata": {},
     "output_type": "execute_result"
    }
   ],
   "source": [
    "check_symmetric(similarity_matrix_inner)"
   ]
  },
  {
   "cell_type": "code",
   "execution_count": 16,
   "id": "focal-degree",
   "metadata": {},
   "outputs": [],
   "source": [
    "# labels = "
   ]
  },
  {
   "cell_type": "code",
   "execution_count": 17,
   "id": "blind-percentage",
   "metadata": {},
   "outputs": [],
   "source": [
    "# too big for my PC \n",
    "# sns.set(font_scale=1.2)\n",
    "# g = sns.heatmap(\n",
    "#   similarity_matrix_inner,\n",
    "# #       xticklabels=labels,\n",
    "# #       yticklabels=labels,\n",
    "#   vmin=0,\n",
    "#   vmax=1,\n",
    "#   cmap=\"YlOrRd\")\n",
    "# g.set_xticklabels(labels, rotation=90)\n",
    "# g.set_title(\"Semantic Textual Similarity\")\n"
   ]
  },
  {
   "cell_type": "code",
   "execution_count": 18,
   "id": "abroad-execution",
   "metadata": {},
   "outputs": [
    {
     "name": "stdout",
     "output_type": "stream",
     "text": [
      "CPU times: user 13.9 s, sys: 600 ms, total: 14.5 s\n",
      "Wall time: 14.6 s\n"
     ]
    }
   ],
   "source": [
    "%%time\n",
    "# get the closest and farthest ~ N for each\n",
    "# https://www.kite.com/python/answers/how-to-find-the-n-maximum-indices-of-a-numpy-array-in-python\n",
    "# https://numpy.org/doc/stable/reference/generated/numpy.argpartition.html\n",
    "# https://numpy.org/doc/stable/reference/generated/numpy.partition.html\n",
    "\n",
    "n = 21  # such as n>1 , when n==1 it shows only self-similarity\n",
    "partitions = np.argpartition(similarity_matrix_inner, -n, axis=0)\n",
    "closests = partitions[-n:]\n",
    "farthest = partitions[:n]"
   ]
  },
  {
   "cell_type": "code",
   "execution_count": 19,
   "id": "spectacular-murray",
   "metadata": {},
   "outputs": [
    {
     "data": {
      "text/plain": [
       "(31103,)"
      ]
     },
     "execution_count": 19,
     "metadata": {},
     "output_type": "execute_result"
    }
   ],
   "source": [
    "len(closests)\n",
    "closests[0].shape"
   ]
  },
  {
   "cell_type": "code",
   "execution_count": 20,
   "id": "fourth-crash",
   "metadata": {},
   "outputs": [
    {
     "name": "stdout",
     "output_type": "stream",
     "text": [
      "CPU times: user 0 ns, sys: 3.11 ms, total: 3.11 ms\n",
      "Wall time: 2.91 ms\n"
     ]
    }
   ],
   "source": [
    "%%time\n",
    "# now there are 2 arrays, each with verses number of elements, each array contains \n",
    "n_close = np.array(closests).transpose()\n",
    "n_far = np.array(farthest).transpose()"
   ]
  },
  {
   "cell_type": "code",
   "execution_count": 21,
   "id": "demanding-diving",
   "metadata": {},
   "outputs": [
    {
     "data": {
      "text/plain": [
       "((31103, 31103), (31103, 20), (31103, 20))"
      ]
     },
     "execution_count": 21,
     "metadata": {},
     "output_type": "execute_result"
    }
   ],
   "source": [
    "similarity_matrix_inner.shape, n_close.shape, n_far.shape"
   ]
  },
  {
   "cell_type": "code",
   "execution_count": 22,
   "id": "adjusted-copying",
   "metadata": {},
   "outputs": [],
   "source": [
    "# clean up memory ..\n",
    "del(closests)\n",
    "del(farthest)\n"
   ]
  },
  {
   "cell_type": "markdown",
   "id": "growing-needle",
   "metadata": {},
   "source": [
    "Show the similarity values for a few points"
   ]
  },
  {
   "cell_type": "code",
   "execution_count": 23,
   "id": "documented-mortality",
   "metadata": {},
   "outputs": [
    {
     "data": {
      "text/plain": [
       "array([0.53220767, 0.535607  , 0.54301083, 0.55235803, 0.57052946,\n",
       "       0.55402035, 0.5800376 , 0.5822105 , 0.5618566 , 0.56626326,\n",
       "       0.57259107, 0.60005933, 0.5615088 , 0.5582243 , 0.6272632 ,\n",
       "       0.65638304, 0.6330644 , 0.70625603, 0.64020944, 1.0000001 ],\n",
       "      dtype=float32)"
      ]
     },
     "execution_count": 23,
     "metadata": {},
     "output_type": "execute_result"
    }
   ],
   "source": [
    "similarity_matrix_inner[0][n_close[0][:20]]"
   ]
  },
  {
   "cell_type": "code",
   "execution_count": 24,
   "id": "assisted-hartford",
   "metadata": {},
   "outputs": [
    {
     "data": {
      "text/plain": [
       "array([ 0.09364344,  0.08305697,  0.06654037,  0.12651277,  0.07592306,\n",
       "        0.14878714,  0.13647093,  0.13357072,  0.05880683, -0.02358215,\n",
       "        0.06586871,  0.11249685,  0.14682116,  0.0791003 ,  0.10768902,\n",
       "        0.11913791,  0.13447869,  0.15217146,  0.11318401,  0.13786386],\n",
       "      dtype=float32)"
      ]
     },
     "execution_count": 24,
     "metadata": {},
     "output_type": "execute_result"
    }
   ],
   "source": [
    "similarity_matrix_inner[0][n_far[0]]"
   ]
  },
  {
   "cell_type": "code",
   "execution_count": 25,
   "id": "valid-biology",
   "metadata": {},
   "outputs": [],
   "source": [
    "# n_close_distance = np.take_along_axis(similarity_matrix_inner, n_close, axis=0)  #this does not work"
   ]
  },
  {
   "cell_type": "code",
   "execution_count": 26,
   "id": "unlimited-actor",
   "metadata": {},
   "outputs": [],
   "source": [
    "# n_close_distance = similarity_matrix_inner[tuple(n_close)]  # this does not work either\n",
    "# n_close_distance = similarity_matrix_inner[n_close]  # this does not work either, it overloads the memory"
   ]
  },
  {
   "cell_type": "code",
   "execution_count": 27,
   "id": "lightweight-screw",
   "metadata": {},
   "outputs": [],
   "source": [
    "# tnclose = tuple(n_close)  "
   ]
  },
  {
   "cell_type": "code",
   "execution_count": 28,
   "id": "bearing-practice",
   "metadata": {},
   "outputs": [],
   "source": [
    "# n_far_distance =  similarity_matrix_inner[n_far]  # Nope, this overloads the memory"
   ]
  },
  {
   "cell_type": "markdown",
   "id": "outside-harrison",
   "metadata": {},
   "source": [
    "extract similarity values for the close elements (this will be useful for displaying later the "
   ]
  },
  {
   "cell_type": "code",
   "execution_count": 33,
   "id": "determined-montreal",
   "metadata": {},
   "outputs": [
    {
     "name": "stdout",
     "output_type": "stream",
     "text": [
      "CPU times: user 77.8 ms, sys: 0 ns, total: 77.8 ms\n",
      "Wall time: 77.9 ms\n"
     ]
    }
   ],
   "source": [
    "%%time\n",
    "close_matrix = np.array([similarity_matrix_inner[i][n_close[i]] for i in range(similarity_matrix_inner.shape[0])])\n",
    "far_matrix = np.array([similarity_matrix_inner[i][n_far[i]] for i in range(similarity_matrix_inner.shape[0])])"
   ]
  },
  {
   "cell_type": "code",
   "execution_count": 34,
   "id": "orange-drill",
   "metadata": {},
   "outputs": [
    {
     "data": {
      "text/plain": [
       "((31103, 20), (31103, 20))"
      ]
     },
     "execution_count": 34,
     "metadata": {},
     "output_type": "execute_result"
    }
   ],
   "source": [
    "close_matrix.shape, far_matrix.shape"
   ]
  },
  {
   "cell_type": "code",
   "execution_count": 35,
   "id": "defensive-boulder",
   "metadata": {},
   "outputs": [
    {
     "data": {
      "text/plain": [
       "array([0.53220767, 0.535607  , 0.54301083, 0.55235803, 0.57052946,\n",
       "       0.55402035, 0.5800376 , 0.5822105 , 0.5618566 , 0.56626326,\n",
       "       0.57259107, 0.60005933, 0.5615088 , 0.5582243 , 0.6272632 ,\n",
       "       0.65638304, 0.6330644 , 0.70625603, 0.64020944, 1.0000001 ],\n",
       "      dtype=float32)"
      ]
     },
     "execution_count": 35,
     "metadata": {},
     "output_type": "execute_result"
    }
   ],
   "source": [
    "close_matrix[0]"
   ]
  },
  {
   "cell_type": "code",
   "execution_count": 30,
   "id": "oriented-shannon",
   "metadata": {},
   "outputs": [],
   "source": [
    "# now I need to understand many MANY things, \n",
    "# compute the labels and IDs for each row\n",
    "# give the text for each row\n",
    "# create a networkx connection graph with it\n"
   ]
  },
  {
   "cell_type": "markdown",
   "id": "opening-hawaiian",
   "metadata": {},
   "source": [
    "Compute Human Readable Labels"
   ]
  },
  {
   "cell_type": "code",
   "execution_count": 37,
   "id": "waiting-century",
   "metadata": {},
   "outputs": [
    {
     "data": {
      "text/plain": [
       "[['id', 'b', 'c', 'v', 't'],\n",
       " ['1001001',\n",
       "  '1',\n",
       "  '1',\n",
       "  '1',\n",
       "  'In the beginning God created the heavens and the earth.'],\n",
       " ['1001002',\n",
       "  '1',\n",
       "  '1',\n",
       "  '2',\n",
       "  'And the earth was waste and void; and darkness was upon the face of the deep: and the Spirit of God moved upon the face of the waters.']]"
      ]
     },
     "execution_count": 37,
     "metadata": {},
     "output_type": "execute_result"
    }
   ],
   "source": [
    "corpus_db[:3]"
   ]
  },
  {
   "cell_type": "code",
   "execution_count": null,
   "id": "geographic-springfield",
   "metadata": {},
   "outputs": [],
   "source": []
  }
 ],
 "metadata": {
  "kernelspec": {
   "display_name": "Python 3",
   "language": "python",
   "name": "python3"
  },
  "language_info": {
   "codemirror_mode": {
    "name": "ipython",
    "version": 3
   },
   "file_extension": ".py",
   "mimetype": "text/x-python",
   "name": "python",
   "nbconvert_exporter": "python",
   "pygments_lexer": "ipython3",
   "version": "3.8.5"
  }
 },
 "nbformat": 4,
 "nbformat_minor": 5
}
