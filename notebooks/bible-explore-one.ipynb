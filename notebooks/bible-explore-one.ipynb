{
 "cells": [
  {
   "cell_type": "markdown",
   "id": "freelance-pennsylvania",
   "metadata": {},
   "source": [
    "# Bible Explore\n",
    "\n",
    "Exploring [Kaggle Bible Corpus](https://www.kaggle.com/oswinrh/bible) for similarity between passages.\n",
    "\n",
    "Some extra information at [OpenBible](http://www.openbible.info/) and [Bible Databases](https://github.com/scrollmapper/bible_databases)\n",
    "\n",
    "The current work is started in English and might be extended to other languages later on"
   ]
  },
  {
   "cell_type": "code",
   "execution_count": 1,
   "id": "minus-sleep",
   "metadata": {},
   "outputs": [],
   "source": [
    "import scipy as sp\n",
    "import numpy as np\n",
    "import pandas as pd\n",
    "import csv\n",
    "import os\n",
    "import sys\n",
    "import re\n",
    "from queue import Queue\n",
    "from pathlib import Path\n",
    "import seaborn as sns\n",
    "import bokeh\n",
    "import matplotlib.pyplot as plt\n",
    "import tensorflow as tf\n",
    "import tensorflow_hub as hub\n",
    "import tensorflow_text\n",
    "import networkx as nx\n",
    "from pyvis.network import Network\n",
    "import pickle\n",
    "\n",
    "%matplotlib inline"
   ]
  },
  {
   "cell_type": "code",
   "execution_count": 2,
   "id": "necessary-contributor",
   "metadata": {},
   "outputs": [],
   "source": [
    "# https://stackoverflow.com/questions/18424228/cosine-similarity-between-2-number-lists\n",
    "# from scipy.spatial import distance\n",
    "# scipy.spatial.distance.cosine\n",
    "\n",
    "# or with numpy:\n",
    "# from numpy import dot\n",
    "# from numpy.linalg import norm\n",
    "\n",
    "# cos_sim = dot(a, b)/(norm(a)*norm(b))"
   ]
  },
  {
   "cell_type": "code",
   "execution_count": 3,
   "id": "metropolitan-southwest",
   "metadata": {},
   "outputs": [],
   "source": [
    "# this is for Tensorflow to use the good GPU instead of the first it sees\n",
    "# os.environ[\"CUDA_VISIBLE_DEVICES\"]=\"1\"\n",
    "# and this is to set tf to use the GPU"
   ]
  },
  {
   "cell_type": "code",
   "execution_count": 4,
   "id": "classified-queensland",
   "metadata": {},
   "outputs": [
    {
     "name": "stdout",
     "output_type": "stream",
     "text": [
      "2.3.2\n",
      "[PhysicalDevice(name='/physical_device:CPU:0', device_type='CPU'), PhysicalDevice(name='/physical_device:XLA_CPU:0', device_type='XLA_CPU'), PhysicalDevice(name='/physical_device:XLA_GPU:0', device_type='XLA_GPU'), PhysicalDevice(name='/physical_device:XLA_GPU:1', device_type='XLA_GPU')]\n"
     ]
    }
   ],
   "source": [
    "print(tf.__version__)\n",
    "print(tf.config.list_physical_devices())\n"
   ]
  },
  {
   "cell_type": "code",
   "execution_count": 5,
   "id": "mysterious-negative",
   "metadata": {},
   "outputs": [],
   "source": [
    "# loading data\n",
    "# load chapters mappings\n",
    "BASE_PATH_DB = Path(\"/home/leo/projects/AI/Datasets/text/religion/bible/kaggle-bible-corpus\")\n",
    "KEY_PATH_DB = BASE_PATH_DB / \"key_english.csv\"\n",
    "\n",
    "corpus_path = BASE_PATH_DB / \"t_asv.csv\"\n",
    "with open(corpus_path, newline='') as f:\n",
    "    corpus = csv.reader(f)\n",
    "    corpus_db = [r for r in corpus]\n",
    "    verses = [r[-1] for r in corpus_db[1:]]  # omit the first line; It's the header"
   ]
  },
  {
   "cell_type": "code",
   "execution_count": 6,
   "id": "greater-trademark",
   "metadata": {},
   "outputs": [
    {
     "data": {
      "text/plain": [
       "'In the beginning God created the heavens and the earth.'"
      ]
     },
     "execution_count": 6,
     "metadata": {},
     "output_type": "execute_result"
    }
   ],
   "source": [
    "verses[0]"
   ]
  },
  {
   "cell_type": "code",
   "execution_count": 7,
   "id": "german-handy",
   "metadata": {},
   "outputs": [],
   "source": [
    "key_verse_map = {}\n",
    "\n",
    "with open(KEY_PATH_DB, newline='') as f:\n",
    "    rows = csv.reader(f)\n",
    "    kvs = [r for r in rows]\n",
    "    key_verse_map = { i[0] : i[1] for i in kvs[1:]}"
   ]
  },
  {
   "cell_type": "code",
   "execution_count": 8,
   "id": "formal-parish",
   "metadata": {
    "scrolled": true
   },
   "outputs": [
    {
     "data": {
      "text/plain": [
       "{'1': 'Genesis',\n",
       " '2': 'Exodus',\n",
       " '3': 'Leviticus',\n",
       " '4': 'Numbers',\n",
       " '5': 'Deuteronomy',\n",
       " '6': 'Joshua',\n",
       " '7': 'Judges',\n",
       " '8': 'Ruth',\n",
       " '9': '1 Samuel',\n",
       " '10': '2 Samuel',\n",
       " '11': '1 Kings',\n",
       " '12': '2 Kings',\n",
       " '13': '1 Chronicles',\n",
       " '14': '2 Chronicles',\n",
       " '15': 'Ezra',\n",
       " '16': 'Nehemiah',\n",
       " '17': 'Esther',\n",
       " '18': 'Job',\n",
       " '19': 'Psalms',\n",
       " '20': 'Proverbs',\n",
       " '21': 'Ecclesiastes',\n",
       " '22': 'Song of Solomon',\n",
       " '23': 'Isaiah',\n",
       " '24': 'Jeremiah',\n",
       " '25': 'Lamentations',\n",
       " '26': 'Ezekiel',\n",
       " '27': 'Daniel',\n",
       " '28': 'Hosea',\n",
       " '29': 'Joel',\n",
       " '30': 'Amos',\n",
       " '31': 'Obadiah',\n",
       " '32': 'Jonah',\n",
       " '33': 'Micah',\n",
       " '34': 'Nahum',\n",
       " '35': 'Habakkuk',\n",
       " '36': 'Zephaniah',\n",
       " '37': 'Haggai',\n",
       " '38': 'Zechariah',\n",
       " '39': 'Malachi',\n",
       " '40': 'Matthew',\n",
       " '41': 'Mark',\n",
       " '42': 'Luke',\n",
       " '43': 'John',\n",
       " '44': 'Acts',\n",
       " '45': 'Romans',\n",
       " '46': '1 Corinthians',\n",
       " '47': '2 Corinthians',\n",
       " '48': 'Galatians',\n",
       " '49': 'Ephesians',\n",
       " '50': 'Philippians',\n",
       " '51': 'Colossians',\n",
       " '52': '1 Thessalonians',\n",
       " '53': '2 Thessalonians',\n",
       " '54': '1 Timothy',\n",
       " '55': '2 Timothy',\n",
       " '56': 'Titus',\n",
       " '57': 'Philemon',\n",
       " '58': 'Hebrews',\n",
       " '59': 'James',\n",
       " '60': '1 Peter',\n",
       " '61': '2 Peter',\n",
       " '62': '1 John',\n",
       " '63': '2 John',\n",
       " '64': '3 John',\n",
       " '65': 'Jude',\n",
       " '66': 'Revelation'}"
      ]
     },
     "execution_count": 8,
     "metadata": {},
     "output_type": "execute_result"
    }
   ],
   "source": [
    "key_verse_map"
   ]
  },
  {
   "cell_type": "code",
   "execution_count": 9,
   "id": "spoken-constant",
   "metadata": {},
   "outputs": [],
   "source": [
    "# TF Universal Sentence Encoder models\n",
    "#@title Load the Universal Sentence Encoder's TF Hub module\n",
    "MODELS_BASE_PATH = \"/home/leo/projects/AI/Datasets/Tensorflow/tf-hub/\"\n",
    "# module_url = os.path.join(BASE_PATH, \"universal-sentence-encoder-lite_2\")\n",
    "module_url = os.path.join(MODELS_BASE_PATH, \"universal-sentence-encoder-multilingual_3\")\n",
    "# module_url = \"https://tfhub.dev/google/universal-sentence-encoder-multilingual/3\"\n",
    "# module_url = \"https://tfhub.dev/google/universal-sentence-encoder-lite/2\"\n",
    "# module_url = \"https://tfhub.dev/google/universal-sentence-encoder/4\"\n",
    "# module_url = 'https://tfhub.dev/google/universal-sentence-encoder-large/5'"
   ]
  },
  {
   "cell_type": "code",
   "execution_count": 10,
   "id": "confidential-ireland",
   "metadata": {
    "scrolled": true
   },
   "outputs": [
    {
     "name": "stdout",
     "output_type": "stream",
     "text": [
      "module /home/leo/projects/AI/Datasets/Tensorflow/tf-hub/universal-sentence-encoder-multilingual_3 loaded\n"
     ]
    }
   ],
   "source": [
    "model = hub.load(module_url)\n",
    "print (\"module %s loaded\" % module_url)\n",
    "\n",
    "def embed(input):\n",
    "  return model(input)"
   ]
  },
  {
   "cell_type": "code",
   "execution_count": 11,
   "id": "primary-charger",
   "metadata": {
    "scrolled": true
   },
   "outputs": [],
   "source": [
    "# I don't get wht this consumes so much CPU and memory and is even slower than the full cpu version\n",
    "# %%time\n",
    "\n",
    "# with tf.device('/GPU:1'):\n",
    "#     model = hub.load(module_url)\n",
    "#     print (\"module %s loaded\" % module_url)\n",
    "\n",
    "#     def embed(input):\n",
    "#       return model(input)\n",
    "\n",
    "#     bible_embeddings = embed(verses)"
   ]
  },
  {
   "cell_type": "code",
   "execution_count": 12,
   "id": "posted-ribbon",
   "metadata": {},
   "outputs": [
    {
     "name": "stdout",
     "output_type": "stream",
     "text": [
      "CPU times: user 2min 29s, sys: 33.8 s, total: 3min 3s\n",
      "Wall time: 31.1 s\n"
     ]
    }
   ],
   "source": [
    "%%time\n",
    "\n",
    "bible_embeddings = embed(verses)"
   ]
  },
  {
   "cell_type": "code",
   "execution_count": 69,
   "id": "suspected-powder",
   "metadata": {
    "scrolled": true
   },
   "outputs": [
    {
     "data": {
      "text/plain": [
       "TensorShape([31103, 512])"
      ]
     },
     "execution_count": 69,
     "metadata": {},
     "output_type": "execute_result"
    }
   ],
   "source": [
    "bible_embeddings.shape"
   ]
  },
  {
   "cell_type": "code",
   "execution_count": 14,
   "id": "military-advocate",
   "metadata": {},
   "outputs": [
    {
     "name": "stdout",
     "output_type": "stream",
     "text": [
      "CPU times: user 10.9 s, sys: 1.15 s, total: 12.1 s\n",
      "Wall time: 3.44 s\n"
     ]
    }
   ],
   "source": [
    "%%time\n",
    "# similarity by inner product\n",
    "similarity_matrix_inner = np.inner(bible_embeddings, bible_embeddings)"
   ]
  },
  {
   "cell_type": "code",
   "execution_count": 15,
   "id": "pacific-inspiration",
   "metadata": {},
   "outputs": [
    {
     "data": {
      "text/plain": [
       "(31103, 31103)"
      ]
     },
     "execution_count": 15,
     "metadata": {},
     "output_type": "execute_result"
    }
   ],
   "source": [
    "similarity_matrix_inner.shape"
   ]
  },
  {
   "cell_type": "code",
   "execution_count": 16,
   "id": "blessed-jacob",
   "metadata": {},
   "outputs": [],
   "source": [
    "def check_symmetric(a, rtol=1e-05, atol=1e-08):\n",
    "    return np.allclose(a, a.T, rtol=rtol, atol=atol)"
   ]
  },
  {
   "cell_type": "markdown",
   "id": "south-spencer",
   "metadata": {},
   "source": [
    "the matrix must be symmetric"
   ]
  },
  {
   "cell_type": "code",
   "execution_count": 17,
   "id": "white-washer",
   "metadata": {},
   "outputs": [
    {
     "data": {
      "text/plain": [
       "True"
      ]
     },
     "execution_count": 17,
     "metadata": {},
     "output_type": "execute_result"
    }
   ],
   "source": [
    "check_symmetric(similarity_matrix_inner)"
   ]
  },
  {
   "cell_type": "code",
   "execution_count": 18,
   "id": "modified-flesh",
   "metadata": {},
   "outputs": [],
   "source": [
    "# labels = "
   ]
  },
  {
   "cell_type": "code",
   "execution_count": 19,
   "id": "banner-framing",
   "metadata": {},
   "outputs": [],
   "source": [
    "# too big for my PC \n",
    "# sns.set(font_scale=1.2)\n",
    "# g = sns.heatmap(\n",
    "#   similarity_matrix_inner,\n",
    "# #       xticklabels=labels,\n",
    "# #       yticklabels=labels,\n",
    "#   vmin=0,\n",
    "#   vmax=1,\n",
    "#   cmap=\"YlOrRd\")\n",
    "# g.set_xticklabels(labels, rotation=90)\n",
    "# g.set_title(\"Semantic Textual Similarity\")\n"
   ]
  },
  {
   "cell_type": "code",
   "execution_count": 20,
   "id": "informative-sweden",
   "metadata": {},
   "outputs": [
    {
     "name": "stdout",
     "output_type": "stream",
     "text": [
      "CPU times: user 14 s, sys: 579 ms, total: 14.6 s\n",
      "Wall time: 14.6 s\n"
     ]
    }
   ],
   "source": [
    "%%time\n",
    "# get the closest and farthest ~ N for each\n",
    "# https://www.kite.com/python/answers/how-to-find-the-n-maximum-indices-of-a-numpy-array-in-python\n",
    "# https://numpy.org/doc/stable/reference/generated/numpy.argpartition.html\n",
    "# https://numpy.org/doc/stable/reference/generated/numpy.partition.html\n",
    "\n",
    "n = 21  # such as n>1 , when n==1 it shows only self-similarity\n",
    "partitions = np.argpartition(similarity_matrix_inner, -n, axis=0)\n",
    "closests = partitions[-n:]\n",
    "farthest = partitions[:n]"
   ]
  },
  {
   "cell_type": "code",
   "execution_count": 21,
   "id": "falling-scheduling",
   "metadata": {},
   "outputs": [
    {
     "data": {
      "text/plain": [
       "(31103,)"
      ]
     },
     "execution_count": 21,
     "metadata": {},
     "output_type": "execute_result"
    }
   ],
   "source": [
    "len(closests)\n",
    "closests[0].shape"
   ]
  },
  {
   "cell_type": "code",
   "execution_count": 22,
   "id": "prescribed-oliver",
   "metadata": {},
   "outputs": [
    {
     "name": "stdout",
     "output_type": "stream",
     "text": [
      "CPU times: user 1.99 ms, sys: 396 µs, total: 2.39 ms\n",
      "Wall time: 2.22 ms\n"
     ]
    }
   ],
   "source": [
    "%%time\n",
    "# now there are 2 arrays, each with verses number of elements, each array contains \n",
    "n_close = np.array(closests).transpose()\n",
    "n_far = np.array(farthest).transpose()"
   ]
  },
  {
   "cell_type": "code",
   "execution_count": 23,
   "id": "removed-nursery",
   "metadata": {},
   "outputs": [
    {
     "data": {
      "text/plain": [
       "((31103, 31103), (31103, 21), (31103, 21))"
      ]
     },
     "execution_count": 23,
     "metadata": {},
     "output_type": "execute_result"
    }
   ],
   "source": [
    "similarity_matrix_inner.shape, n_close.shape, n_far.shape"
   ]
  },
  {
   "cell_type": "code",
   "execution_count": 24,
   "id": "subtle-extraction",
   "metadata": {},
   "outputs": [
    {
     "data": {
      "text/plain": [
       "array([[15337, 31055, 26045, 19212, 24736, 16628, 13772, 26046, 15845,\n",
       "        18579, 16474, 29973,   148,  5200, 28593,    31, 16625,    16,\n",
       "           34, 15380,     0],\n",
       "       [12522,  1910,   182,   190,    27, 14133, 19050,   194, 17829,\n",
       "            8, 30527,  1928,   149,   176,   177, 25278,   178,     1,\n",
       "           36,    37, 17530]])"
      ]
     },
     "execution_count": 24,
     "metadata": {},
     "output_type": "execute_result"
    }
   ],
   "source": [
    "n_close[:2]"
   ]
  },
  {
   "cell_type": "code",
   "execution_count": 25,
   "id": "fluid-youth",
   "metadata": {},
   "outputs": [],
   "source": [
    "# clean up memory ..\n",
    "del(closests)\n",
    "del(farthest)\n"
   ]
  },
  {
   "cell_type": "markdown",
   "id": "civil-ribbon",
   "metadata": {},
   "source": [
    "Show the similarity values for a few points"
   ]
  },
  {
   "cell_type": "code",
   "execution_count": 26,
   "id": "warming-extent",
   "metadata": {},
   "outputs": [
    {
     "data": {
      "text/plain": [
       "array([0.5309429 , 0.53220767, 0.535607  , 0.54301083, 0.55235803,\n",
       "       0.57052946, 0.55402035, 0.5800376 , 0.5822105 , 0.5618566 ,\n",
       "       0.56626326, 0.57259107, 0.60005933, 0.5615088 , 0.5582243 ,\n",
       "       0.6272632 , 0.65638304, 0.6330644 , 0.70625603, 0.64020944],\n",
       "      dtype=float32)"
      ]
     },
     "execution_count": 26,
     "metadata": {},
     "output_type": "execute_result"
    }
   ],
   "source": [
    "similarity_matrix_inner[0][n_close[0][:20]]"
   ]
  },
  {
   "cell_type": "code",
   "execution_count": 27,
   "id": "ecological-patent",
   "metadata": {},
   "outputs": [
    {
     "data": {
      "text/plain": [
       "array([ 0.09364344,  0.08305697,  0.06654037,  0.12651277,  0.07592306,\n",
       "        0.14878714,  0.13647093,  0.13357072,  0.05880683, -0.02358215,\n",
       "        0.06586871,  0.11249685,  0.14682116,  0.0791003 ,  0.10768902,\n",
       "        0.11913791,  0.13447869,  0.15217146,  0.11318401,  0.13786386,\n",
       "        0.05275048], dtype=float32)"
      ]
     },
     "execution_count": 27,
     "metadata": {},
     "output_type": "execute_result"
    }
   ],
   "source": [
    "similarity_matrix_inner[0][n_far[0]]"
   ]
  },
  {
   "cell_type": "code",
   "execution_count": 28,
   "id": "chubby-grove",
   "metadata": {},
   "outputs": [],
   "source": [
    "# n_close_distance = np.take_along_axis(similarity_matrix_inner, n_close, axis=0)  #this does not work"
   ]
  },
  {
   "cell_type": "code",
   "execution_count": 29,
   "id": "printable-engagement",
   "metadata": {},
   "outputs": [],
   "source": [
    "# n_close_distance = similarity_matrix_inner[tuple(n_close)]  # this does not work either\n",
    "# n_close_distance = similarity_matrix_inner[n_close]  # this does not work either, it overloads the memory"
   ]
  },
  {
   "cell_type": "code",
   "execution_count": 30,
   "id": "bulgarian-porter",
   "metadata": {},
   "outputs": [],
   "source": [
    "# tnclose = tuple(n_close)  "
   ]
  },
  {
   "cell_type": "code",
   "execution_count": 31,
   "id": "powerful-plain",
   "metadata": {},
   "outputs": [],
   "source": [
    "# n_far_distance =  similarity_matrix_inner[n_far]  # Nope, this overloads the memory"
   ]
  },
  {
   "cell_type": "markdown",
   "id": "small-selling",
   "metadata": {},
   "source": [
    "extract similarity values for the close elements (this will be useful for displaying later the "
   ]
  },
  {
   "cell_type": "code",
   "execution_count": 32,
   "id": "interstate-universe",
   "metadata": {},
   "outputs": [
    {
     "name": "stdout",
     "output_type": "stream",
     "text": [
      "CPU times: user 70.8 ms, sys: 0 ns, total: 70.8 ms\n",
      "Wall time: 71.3 ms\n"
     ]
    }
   ],
   "source": [
    "%%time\n",
    "# somehow this is not sorted as it should\n",
    "close_matrix = np.array([similarity_matrix_inner[i][n_close[i]] for i in range(similarity_matrix_inner.shape[0])])\n",
    "far_matrix = np.array([similarity_matrix_inner[i][n_far[i]] for i in range(similarity_matrix_inner.shape[0])])"
   ]
  },
  {
   "cell_type": "code",
   "execution_count": 33,
   "id": "legitimate-bleeding",
   "metadata": {},
   "outputs": [
    {
     "data": {
      "text/plain": [
       "((31103, 21), (31103, 21))"
      ]
     },
     "execution_count": 33,
     "metadata": {},
     "output_type": "execute_result"
    }
   ],
   "source": [
    "close_matrix.shape, far_matrix.shape"
   ]
  },
  {
   "cell_type": "code",
   "execution_count": 34,
   "id": "collectible-episode",
   "metadata": {},
   "outputs": [
    {
     "data": {
      "text/plain": [
       "array([0.5309429 , 0.53220767, 0.535607  , 0.54301083, 0.55235803,\n",
       "       0.57052946, 0.55402035, 0.5800376 , 0.5822105 , 0.5618566 ,\n",
       "       0.56626326, 0.57259107, 0.60005933, 0.5615088 , 0.5582243 ,\n",
       "       0.6272632 , 0.65638304, 0.6330644 , 0.70625603, 0.64020944,\n",
       "       1.0000001 ], dtype=float32)"
      ]
     },
     "execution_count": 34,
     "metadata": {},
     "output_type": "execute_result"
    }
   ],
   "source": [
    "close_matrix[0]"
   ]
  },
  {
   "cell_type": "code",
   "execution_count": 35,
   "id": "announced-concern",
   "metadata": {},
   "outputs": [],
   "source": [
    "# now I need to understand many MANY things, \n",
    "# compute the labels and IDs for each row\n",
    "# give the text for each row\n",
    "# create a networkx connection graph with it\n"
   ]
  },
  {
   "cell_type": "markdown",
   "id": "wooden-shock",
   "metadata": {},
   "source": [
    "Compute Human Readable Labels"
   ]
  },
  {
   "cell_type": "code",
   "execution_count": 36,
   "id": "important-mailing",
   "metadata": {},
   "outputs": [
    {
     "data": {
      "text/plain": [
       "['id', 'b', 'c', 'v', 't']"
      ]
     },
     "execution_count": 36,
     "metadata": {},
     "output_type": "execute_result"
    }
   ],
   "source": [
    "corpus_db[0]"
   ]
  },
  {
   "cell_type": "code",
   "execution_count": 37,
   "id": "documented-neutral",
   "metadata": {},
   "outputs": [
    {
     "data": {
      "text/plain": [
       "[['13023016', '13', '23', '16', 'The sons of Gershom: Shebuel the chief.'],\n",
       " ['13023017',\n",
       "  '13',\n",
       "  '23',\n",
       "  '17',\n",
       "  'And the sons of Eliezer were: Rehabiah the chief; and Eliezer had no other sons; but the sons of Rehabiah were very many.'],\n",
       " ['13023018', '13', '23', '18', 'The sons of Izhar: Shelomith the chief.']]"
      ]
     },
     "execution_count": 37,
     "metadata": {},
     "output_type": "execute_result"
    }
   ],
   "source": [
    "corpus_db[11000:11003]"
   ]
  },
  {
   "cell_type": "code",
   "execution_count": 38,
   "id": "manual-heritage",
   "metadata": {},
   "outputs": [
    {
     "name": "stdout",
     "output_type": "stream",
     "text": [
      "CPU times: user 1.81 s, sys: 33.6 ms, total: 1.84 s\n",
      "Wall time: 1.84 s\n"
     ]
    }
   ],
   "source": [
    "%%time\n",
    "# db contains all the information AND the embeddings, this also contains the graph information\n",
    "bible_db = {}\n",
    "\n",
    "for i in range(1, len(corpus_db)-1):\n",
    "    verse = corpus_db[i]\n",
    "#     k_id = int(verse[0])\n",
    "    val = {\n",
    "        'index':i-1,\n",
    "        'id': int(verse[0]),\n",
    "        'name': f\"{key_verse_map[verse[1]]} {verse[2]}:{verse[3]}\",\n",
    "        'book_id': int(verse[1]),\n",
    "        'chapter_id': int(verse[2]),\n",
    "        'verse_id': int(verse[3]),\n",
    "        'text': verse[4],\n",
    "        'embedding': bible_embeddings[i],\n",
    "        'close_to': n_close[i],  # ids\n",
    "        'close_to_distance': close_matrix[i], \n",
    "        'far_from': n_far[i],  # ids\n",
    "        'far_from_distance': far_matrix[i], \n",
    "    }\n",
    "    bible_db[i-1] = val"
   ]
  },
  {
   "cell_type": "code",
   "execution_count": 39,
   "id": "thorough-tuition",
   "metadata": {
    "scrolled": true
   },
   "outputs": [
    {
     "data": {
      "text/plain": [
       "{'index': 10,\n",
       " 'id': 1001011,\n",
       " 'name': 'Genesis 1:11',\n",
       " 'book_id': 1,\n",
       " 'chapter_id': 1,\n",
       " 'verse_id': 11,\n",
       " 'text': \"And God said, Let the earth put forth grass, herbs yielding seed, `and' fruit-trees bearing fruit after their kind, wherein is the seed thereof, upon the earth: and it was so.\",\n",
       " 'embedding': <tf.Tensor: shape=(512,), dtype=float32, numpy=\n",
       " array([ 0.09106142,  0.03639635,  0.07232352,  0.0180516 ,  0.00536718,\n",
       "         0.03608396,  0.05259072, -0.02857068,  0.04545586,  0.06467625,\n",
       "         0.06814095, -0.03513066,  0.02862555,  0.02917071, -0.00231802,\n",
       "         0.00881511, -0.05753801,  0.04993311, -0.01497626,  0.01349286,\n",
       "         0.01813623, -0.02739129,  0.03048592, -0.03268808, -0.07027489,\n",
       "         0.06431985, -0.05512333, -0.06109827, -0.0350656 ,  0.0462325 ,\n",
       "        -0.05182962, -0.06845409, -0.0513493 ,  0.02085048,  0.00632241,\n",
       "         0.00783822,  0.04397808, -0.00993006, -0.05865693,  0.02339393,\n",
       "         0.00523461, -0.06789356, -0.07403339, -0.0083824 , -0.04236085,\n",
       "         0.08559725,  0.02365653,  0.02480414, -0.03661436,  0.03409921,\n",
       "         0.02676422, -0.05560775, -0.02704752,  0.08126157, -0.06318523,\n",
       "        -0.06514961, -0.05277838, -0.07852042, -0.07479304, -0.0082139 ,\n",
       "        -0.08632718,  0.02766861, -0.03822524, -0.00361744,  0.02560298,\n",
       "        -0.03027637, -0.03610107,  0.02745457,  0.02984638,  0.00171613,\n",
       "         0.005731  ,  0.05483721, -0.01067593,  0.03847423,  0.01047791,\n",
       "         0.06010202, -0.07152422, -0.014128  ,  0.03023228, -0.06450077,\n",
       "        -0.04831243, -0.02600903, -0.02757806,  0.00539083,  0.06091715,\n",
       "         0.0121107 ,  0.07063503,  0.01225022, -0.05321955, -0.00449597,\n",
       "        -0.043788  ,  0.0028269 ,  0.03027242,  0.06521028, -0.00782272,\n",
       "         0.04408739,  0.08106164, -0.06352026,  0.00554771,  0.07059775,\n",
       "         0.01514542,  0.03003225,  0.02826131, -0.02794987,  0.02977439,\n",
       "         0.03052414,  0.01164925, -0.06529842, -0.06142687, -0.02134545,\n",
       "        -0.05203177,  0.0297185 , -0.04219783,  0.02756153, -0.0147499 ,\n",
       "         0.00342736,  0.04536953, -0.0295147 , -0.03806897,  0.0614241 ,\n",
       "         0.01754536, -0.03404122,  0.05303595, -0.03448923, -0.0327468 ,\n",
       "        -0.03746655, -0.08731995,  0.02266624, -0.04046783,  0.01455716,\n",
       "         0.00540765, -0.0646202 ,  0.01743017, -0.01824477, -0.06638616,\n",
       "         0.04239735, -0.06221655,  0.03848524, -0.03645411, -0.02747786,\n",
       "         0.08358996,  0.01489447, -0.01768647,  0.03075321,  0.03648608,\n",
       "         0.0119329 ,  0.05316003, -0.075491  , -0.05724401, -0.04671095,\n",
       "        -0.00912003, -0.03729008, -0.03041796, -0.02513422,  0.02038535,\n",
       "        -0.04434558, -0.03273832, -0.01072074, -0.01184476, -0.03166454,\n",
       "        -0.0008762 ,  0.02665801,  0.04563675, -0.07359794, -0.0018475 ,\n",
       "         0.05115199, -0.03037109,  0.00798619,  0.0364305 , -0.052021  ,\n",
       "        -0.02396406, -0.00879577, -0.00789777, -0.04268713,  0.00375797,\n",
       "         0.07830674,  0.01076455, -0.06762303,  0.00950821,  0.05549211,\n",
       "         0.03107124, -0.04234981,  0.0669931 , -0.02847719,  0.03531335,\n",
       "         0.02370489,  0.06558416,  0.03237449, -0.01232868,  0.06547255,\n",
       "        -0.0155345 , -0.07018857, -0.05635272,  0.03902876, -0.07130425,\n",
       "        -0.06113136,  0.04405123, -0.00675477,  0.0138431 ,  0.06182126,\n",
       "         0.02573008,  0.08396056,  0.04574804,  0.04755564,  0.01152448,\n",
       "         0.06421005,  0.08922462, -0.03653734, -0.01126056, -0.06188691,\n",
       "         0.04072649,  0.01390065, -0.04220702, -0.00442336,  0.04629046,\n",
       "         0.01070098, -0.03473175, -0.03740793, -0.05360563, -0.02649357,\n",
       "         0.07849592, -0.03036438,  0.01414089, -0.03808498,  0.01401868,\n",
       "        -0.01828768, -0.04483181,  0.07654084,  0.05449939,  0.03459089,\n",
       "         0.00253183,  0.00922892,  0.04569368, -0.00099969, -0.01887841,\n",
       "        -0.03756804, -0.03276058,  0.01398527,  0.0052191 ,  0.06467425,\n",
       "        -0.0405894 , -0.04119086, -0.00659323,  0.00119237, -0.06163421,\n",
       "        -0.0886538 , -0.01702426,  0.04361382, -0.04985986, -0.01118786,\n",
       "        -0.0026935 ,  0.04687737,  0.03305662,  0.04966235,  0.01249009,\n",
       "         0.04521781, -0.02051437, -0.05914183,  0.03806794,  0.00025728,\n",
       "        -0.04300037,  0.05001432, -0.02318786, -0.02211022,  0.02376415,\n",
       "        -0.02760075, -0.08230615,  0.0520236 ,  0.02121662,  0.03412994,\n",
       "        -0.01207109, -0.00865039,  0.04380314,  0.03728089, -0.07018619,\n",
       "        -0.0292173 ,  0.05986129, -0.0551711 , -0.02985503, -0.0498879 ,\n",
       "        -0.05154227, -0.06460331, -0.01624531,  0.0227309 ,  0.05964386,\n",
       "         0.03375902, -0.03573149, -0.01508705, -0.01338568,  0.06908488,\n",
       "         0.07977111, -0.0462598 , -0.04234366, -0.07576334, -0.00132721,\n",
       "         0.03496547,  0.00472904, -0.01030289,  0.02764714,  0.03345099,\n",
       "        -0.02115151,  0.06646936, -0.0460431 ,  0.06878708, -0.01726365,\n",
       "         0.06986617,  0.07490722, -0.06276467, -0.05856655, -0.05263388,\n",
       "        -0.04337605,  0.02088159, -0.07179786,  0.01290836,  0.01581698,\n",
       "        -0.04582961, -0.06428304, -0.06089162,  0.00950924,  0.01220142,\n",
       "        -0.0703809 , -0.09291016,  0.02385317, -0.03021055, -0.08232681,\n",
       "         0.09100989,  0.05173682,  0.07875736,  0.05544186, -0.01039042,\n",
       "        -0.01527183,  0.04126755,  0.05221913,  0.01418568,  0.06388283,\n",
       "        -0.00905745, -0.02713001, -0.00413981,  0.02601247,  0.03104557,\n",
       "        -0.06565452, -0.00262943,  0.01287107,  0.00302716,  0.02577568,\n",
       "         0.02466997,  0.0694868 , -0.06723717, -0.04364764, -0.01667829,\n",
       "         0.05147436, -0.01396193, -0.08882183, -0.06924684, -0.05510398,\n",
       "        -0.06265713,  0.01797224, -0.00096047,  0.00571985,  0.00943743,\n",
       "         0.07039801, -0.03045078, -0.0378775 , -0.05419204, -0.03276892,\n",
       "        -0.0094002 , -0.02797811,  0.00254099, -0.07558204,  0.03966218,\n",
       "        -0.01729634,  0.00866536,  0.02934261, -0.00986808, -0.08943403,\n",
       "        -0.02615643,  0.01286883, -0.06155451,  0.04558626, -0.02002858,\n",
       "         0.02605729,  0.00851242,  0.06280831,  0.00162585, -0.07251029,\n",
       "         0.00501794,  0.04022742, -0.03156094,  0.02257456, -0.04418151,\n",
       "        -0.05591407,  0.01292317,  0.01963049, -0.01345386, -0.08730628,\n",
       "        -0.00811741, -0.02211235,  0.00191876, -0.02119118,  0.05574891,\n",
       "        -0.00868657,  0.00524542,  0.04059629, -0.00421871, -0.06663524,\n",
       "        -0.016786  ,  0.04022677,  0.02593853,  0.01543766,  0.06003164,\n",
       "         0.02207918,  0.0463904 ,  0.00690116, -0.04337599, -0.07500952,\n",
       "         0.01241751,  0.05909375, -0.05313675,  0.01749545, -0.02578615,\n",
       "        -0.04951264, -0.02324368, -0.05163474, -0.04559481, -0.07716611,\n",
       "        -0.06586887,  0.01139461,  0.03248287, -0.01608619,  0.06425551,\n",
       "         0.08573968, -0.08453794,  0.00028384,  0.00532777,  0.02452597,\n",
       "         0.02123661, -0.02191972, -0.05489462, -0.00652412, -0.07038804,\n",
       "         0.02843087, -0.0561722 , -0.02169815,  0.05046592, -0.03995251,\n",
       "        -0.04495438,  0.06597558,  0.0334672 ,  0.05048195,  0.06219985,\n",
       "        -0.02442696, -0.08396827, -0.01933966, -0.0055943 , -0.00822372,\n",
       "        -0.06238637,  0.08486752, -0.02825733,  0.00408964,  0.06569109,\n",
       "         0.06843852, -0.00016028, -0.04812685, -0.04564729, -0.01874639,\n",
       "        -0.05185128,  0.08534521, -0.05417919, -0.04758109, -0.03328858,\n",
       "         0.01556329, -0.05700662, -0.00866902,  0.01031981,  0.06902458,\n",
       "        -0.01886238,  0.01348105,  0.0052165 ,  0.05498529,  0.07548025,\n",
       "         0.04821331,  0.07808917,  0.00666979,  0.00876581,  0.02343099,\n",
       "        -0.05463711, -0.09430266,  0.02819458, -0.08264574,  0.0413427 ,\n",
       "        -0.02141853, -0.00558446,  0.01982159,  0.07048674,  0.01600794,\n",
       "        -0.07004217, -0.02098136, -0.01800197,  0.03525135, -0.06515998,\n",
       "         0.02516795,  0.04521758, -0.00905239,  0.04050249, -0.01020812,\n",
       "        -0.02714149,  0.00452657,  0.00039734, -0.03398164,  0.04077944,\n",
       "        -0.04926482,  0.00048286], dtype=float32)>,\n",
       " 'close_to': array([25657,   755,  1792,    11, 21858,  5622, 15016,    24, 18379,\n",
       "        15641, 10087, 25537,    10, 23571, 12976, 21849, 24354,    28,\n",
       "           39, 28966, 25250]),\n",
       " 'close_to_distance': array([0.5862311 , 0.5873128 , 0.6198554 , 0.99999994, 0.61947644,\n",
       "        0.59148407, 0.62367916, 0.63108444, 0.644819  , 0.59868443,\n",
       "        0.64214236, 0.66652834, 0.8972022 , 0.62923956, 0.6077385 ,\n",
       "        0.60184294, 0.6331073 , 0.7309563 , 0.62754095, 0.60161924,\n",
       "        0.63093746], dtype=float32),\n",
       " 'far_from': array([ 7953, 31102, 31094, 31093, 31091, 31085, 31079, 31067, 31054,\n",
       "        31044, 31030, 31006,    12, 30989, 30939, 30932, 30926, 30918,\n",
       "           18, 30914, 30907]),\n",
       " 'far_from_distance': array([ 0.09595627,  0.12956728,  0.12796156,  0.10202245,  0.0805405 ,\n",
       "         0.10197674,  0.03374171,  0.09480565,  0.11078205,  0.13089111,\n",
       "         0.04960138,  0.12559263,  0.12322614,  0.07530481,  0.11377354,\n",
       "         0.12386054,  0.04774119, -0.00159978,  0.11632687,  0.13065693,\n",
       "         0.09826916], dtype=float32)}"
      ]
     },
     "execution_count": 39,
     "metadata": {},
     "output_type": "execute_result"
    }
   ],
   "source": [
    "bible_db[10]"
   ]
  },
  {
   "cell_type": "code",
   "execution_count": 40,
   "id": "dress-polish",
   "metadata": {},
   "outputs": [],
   "source": [
    "# save the DB\n",
    "BIBLE_DB_PATH = \"../db/bible-db.pkl\"\n",
    "with open(BIBLE_DB_PATH, 'wb') as f:\n",
    "    pickle.dump(bible_db, f, pickle.HIGHEST_PROTOCOL)\n",
    "    \n",
    "## kind of big, 86 mb"
   ]
  },
  {
   "cell_type": "code",
   "execution_count": 41,
   "id": "sound-analysis",
   "metadata": {},
   "outputs": [],
   "source": [
    "BIBLE_EMBEDDINGS_PATH = \"../db/bible-embeddings.pkl\"\n",
    "with open(BIBLE_EMBEDDINGS_PATH, 'wb') as f:\n",
    "    pickle.dump(bible_embeddings, f, pickle.HIGHEST_PROTOCOL)\n",
    "    "
   ]
  },
  {
   "cell_type": "code",
   "execution_count": 44,
   "id": "innovative-happening",
   "metadata": {},
   "outputs": [],
   "source": [
    "# function to get the subgraph \n",
    "\n",
    "def _get_edges(n_index, node, close_points):\n",
    "    \"\"\"\n",
    "    n_index: node index in the encoding matrix\n",
    "    node: the node in the db\n",
    "    close_points: the number of close points to get\n",
    "    \"\"\"\n",
    "    nd_weight = zip(node['close_to'], node['close_to_distance'])\n",
    "    nd_edges = []\n",
    "    for n,w in nd_weight:\n",
    "        if n != n_index:\n",
    "            # distance is farthest the smaller it is, so changing it to make the reverse relation\n",
    "            nd_edges.append((n_index, n, 1/w))\n",
    "        if len(nd_edges) >= close_points:\n",
    "            break\n",
    "    return nd_edges\n",
    "\n",
    "\n",
    "def get_subgraph(bible_db, node_id, close_points=5, levels=2):\n",
    "    \"\"\"\n",
    "    Get the subgraph from a node id\n",
    "    bible_db: the entire bible database in a dict\n",
    "    node_id: the node id\n",
    "    close_points: the number of close points from each, => each point will have at most close_points outgoing edges\n",
    "    levels: number of levels to go in depth for connections\n",
    "    returns a networkx graph of the subgraph from the complete db centering the subgraph in the given node_id\n",
    "    \"\"\"\n",
    "    g = nx.Graph()\n",
    "    if node_id not in bible_db:\n",
    "        # there is no graph to build\n",
    "        return g\n",
    "    # Recursive is SO intuitive, but will explode the stack and memory for big graphs\n",
    "    nid = node_id\n",
    "    nodes_to_add = []  # (node_id, group, size, label, title, txt)\n",
    "    edges_to_add = []  # (node_id, node_id, weight)\n",
    "    discovered = set()\n",
    "    q = Queue()\n",
    "    q.put((node_id, 0))  # keep (node, depth from center in levels)\n",
    "    cnt = 0\n",
    "    # this tree/ graph transversal is not WOW HOW EFFICIENT, but it works well enough\n",
    "    while not q.empty() and cnt < levels+1:\n",
    "        node_id, lvl = q.get()\n",
    "        discovered.add(node_id)\n",
    "        node = bible_db[node_id]\n",
    "        nodes_to_add.append((node, lvl))\n",
    "        # only add the edges if the level is not the max\n",
    "        if lvl < levels:\n",
    "            nd_edges = _get_edges(node_id, node, close_points)\n",
    "            for edg in nd_edges:\n",
    "                edges_to_add.append((edg, lvl))\n",
    "                sn, en, w = edg\n",
    "                if en not in discovered:\n",
    "                    q.put((en, lvl+1))\n",
    "        cnt = lvl\n",
    "    # TODO\n",
    "    for node, lvl in nodes_to_add:\n",
    "#         if lvl < levels:\n",
    "# #             g.add_node(nid)\n",
    "        g.add_node(node['index'], size=20, group=node['book_id'], title=node['name'], data=node['text'])\n",
    "#         g.add_node(int(nid), size=20, group=node['book_id'], title=node['name'], data=node['text'])\n",
    "    \n",
    "    for edg, lvl in edges_to_add:\n",
    "        (sn, en, w) = edg\n",
    "#         print(edg)\n",
    "        # pyvis complains that this are not int fields!! (but they are)\n",
    "        g.add_edge(int(sn), int(en), weight=w)\n",
    "#         g.add_edge(sn, en)\n",
    "\n",
    "    return nodes_to_add, edges_to_add, g"
   ]
  },
  {
   "cell_type": "code",
   "execution_count": 45,
   "id": "alone-sodium",
   "metadata": {},
   "outputs": [],
   "source": [
    "nodes, edges, sg = get_subgraph(bible_db, 127, close_points=5, levels=3)"
   ]
  },
  {
   "cell_type": "code",
   "execution_count": 46,
   "id": "refined-charter",
   "metadata": {
    "scrolled": true
   },
   "outputs": [],
   "source": [
    "# [(n[0]['index'], n[1]) for n in nodes]"
   ]
  },
  {
   "cell_type": "code",
   "execution_count": 47,
   "id": "official-acquisition",
   "metadata": {
    "scrolled": true
   },
   "outputs": [],
   "source": [
    "# edges"
   ]
  },
  {
   "cell_type": "code",
   "execution_count": 48,
   "id": "divided-philippines",
   "metadata": {},
   "outputs": [
    {
     "data": {
      "text/plain": [
       "networkx.classes.graph.Graph"
      ]
     },
     "execution_count": 48,
     "metadata": {},
     "output_type": "execute_result"
    }
   ],
   "source": [
    "type(sg)"
   ]
  },
  {
   "cell_type": "code",
   "execution_count": 49,
   "id": "average-environment",
   "metadata": {},
   "outputs": [
    {
     "data": {
      "text/plain": [
       "{'size': 20,\n",
       " 'group': 1,\n",
       " 'title': 'Genesis 5:22',\n",
       " 'data': 'and Enoch walked with God after he begat Methuselah three hundred years, and begat sons and daughters:'}"
      ]
     },
     "execution_count": 49,
     "metadata": {},
     "output_type": "execute_result"
    }
   ],
   "source": [
    "sg.nodes[127]"
   ]
  },
  {
   "cell_type": "code",
   "execution_count": 52,
   "id": "editorial-response",
   "metadata": {},
   "outputs": [],
   "source": [
    "# options = {\n",
    "#     'node_color': 'yellow',\n",
    "#     'node_size': 600,\n",
    "# #     'width': 3,\n",
    "# #     'arrowstyle': '-|>',\n",
    "# #     'arrowsize': 12,\n",
    "# }\n",
    "# nx.draw_networkx(sg, **options)\n",
    "# plt.show()"
   ]
  },
  {
   "cell_type": "code",
   "execution_count": 53,
   "id": "stunning-order",
   "metadata": {},
   "outputs": [],
   "source": [
    "# gg = nx.from_edgelist(list(sg.edges))"
   ]
  },
  {
   "cell_type": "code",
   "execution_count": 63,
   "id": "qualified-glass",
   "metadata": {},
   "outputs": [],
   "source": [
    "nt = Network('800px', '800px', notebook=True)\n",
    "nt.from_nx(sg)"
   ]
  },
  {
   "cell_type": "code",
   "execution_count": 64,
   "id": "approved-mirror",
   "metadata": {},
   "outputs": [
    {
     "data": {
      "text/html": [
       "\n",
       "        <iframe\n",
       "            width=\"800px\"\n",
       "            height=\"800px\"\n",
       "            src=\"nx.html\"\n",
       "            frameborder=\"0\"\n",
       "            allowfullscreen\n",
       "        ></iframe>\n",
       "        "
      ],
      "text/plain": [
       "<IPython.lib.display.IFrame at 0x7f6cb02ea190>"
      ]
     },
     "execution_count": 64,
     "metadata": {},
     "output_type": "execute_result"
    }
   ],
   "source": [
    "nt.show('nx.html')"
   ]
  },
  {
   "cell_type": "code",
   "execution_count": 100,
   "id": "innovative-stomach",
   "metadata": {},
   "outputs": [],
   "source": [
    "def get_closest_points(txt, n=21, algorithm='inner'):\n",
    "    \"\"\"\n",
    "    txt: the text to look for similarities\n",
    "    n: the number of closest matches that will be searched\n",
    "    algorithm: inner|cosine  # the algorithm to determine how the proximity is computed\n",
    "    returns the closest n points to the input text based on the proximity algorithm\n",
    "    \"\"\"\n",
    "    # TODO\n",
    "    # compute input embedding \n",
    "    embd = embed([txt])\n",
    "    # compute proximity with all the existing points\n",
    "    similarity = np.inner(bible_embeddings, embd)\n",
    "#     print(similarity.shape)\n",
    "    # get the closest n points ids\n",
    "    # such as n>1 , when n==1 it shows only self-similarity\n",
    "    partitions = np.argpartition(similarity, -n, axis=0)\n",
    "#     print(partitions.shape)\n",
    "    n_close = partitions[-n:]\n",
    "    n_far = partitions[:n]\n",
    "    # needs a complete matrix\n",
    "    return n_close, n_far\n"
   ]
  },
  {
   "cell_type": "code",
   "execution_count": 101,
   "id": "informed-tanzania",
   "metadata": {},
   "outputs": [],
   "source": [
    "search_results = get_closest_points(\"and god is good\")"
   ]
  },
  {
   "cell_type": "code",
   "execution_count": 102,
   "id": "honey-prairie",
   "metadata": {},
   "outputs": [
    {
     "data": {
      "text/plain": [
       "(21, 1)"
      ]
     },
     "execution_count": 102,
     "metadata": {},
     "output_type": "execute_result"
    }
   ],
   "source": [
    "search_results[0].shape"
   ]
  },
  {
   "cell_type": "code",
   "execution_count": 110,
   "id": "collective-caribbean",
   "metadata": {},
   "outputs": [],
   "source": [
    "closest = search_results[0][0][0]"
   ]
  },
  {
   "cell_type": "code",
   "execution_count": 111,
   "id": "noted-lexington",
   "metadata": {},
   "outputs": [
    {
     "data": {
      "text/plain": [
       "15106"
      ]
     },
     "execution_count": 111,
     "metadata": {},
     "output_type": "execute_result"
    }
   ],
   "source": [
    "closest"
   ]
  },
  {
   "cell_type": "code",
   "execution_count": 112,
   "id": "external-enterprise",
   "metadata": {},
   "outputs": [],
   "source": [
    "nodes, edges, sg = get_subgraph(bible_db, closest, close_points=5, levels=3)"
   ]
  },
  {
   "cell_type": "code",
   "execution_count": 113,
   "id": "honey-simpson",
   "metadata": {},
   "outputs": [
    {
     "data": {
      "text/html": [
       "\n",
       "        <iframe\n",
       "            width=\"800px\"\n",
       "            height=\"800px\"\n",
       "            src=\"search-results.html\"\n",
       "            frameborder=\"0\"\n",
       "            allowfullscreen\n",
       "        ></iframe>\n",
       "        "
      ],
      "text/plain": [
       "<IPython.lib.display.IFrame at 0x7f6be4677b50>"
      ]
     },
     "execution_count": 113,
     "metadata": {},
     "output_type": "execute_result"
    }
   ],
   "source": [
    "nt = Network('800px', '800px', notebook=True)\n",
    "nt.from_nx(sg)\n",
    "nt.show('search-results.html')"
   ]
  },
  {
   "cell_type": "code",
   "execution_count": null,
   "id": "nasty-reserve",
   "metadata": {},
   "outputs": [],
   "source": []
  }
 ],
 "metadata": {
  "kernelspec": {
   "display_name": "Python 3",
   "language": "python",
   "name": "python3"
  },
  "language_info": {
   "codemirror_mode": {
    "name": "ipython",
    "version": 3
   },
   "file_extension": ".py",
   "mimetype": "text/x-python",
   "name": "python",
   "nbconvert_exporter": "python",
   "pygments_lexer": "ipython3",
   "version": "3.8.5"
  }
 },
 "nbformat": 4,
 "nbformat_minor": 5
}
